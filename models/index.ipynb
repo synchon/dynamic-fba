{
 "cells": [
  {
   "cell_type": "markdown",
   "metadata": {},
   "source": [
    "# Run DFBA models with sbmlutils\n",
    "This notebook provides the entry point to run the DFBA examples with `sbmlutils`.\n",
    "\n",
    "## Installation\n",
    "```\n",
    "# clone repository\n",
    "git clone https://github.com/matthiaskoenig/dfba.git\n",
    "cd dfba/models\n",
    "\n",
    "# setup virtual environment (sbmlutils>=0.1.8)\n",
    "mkvirtualenv dfba\n",
    "(dfba) pip install sbmlutils\n",
    "\n",
    "# install kernel for ipython\n",
    "(dfba) python -m ipykernel install --user --name=dfba\n",
    "\n",
    "# start jupyter notbook\n",
    "jupyter notebook index.ipynb\n",
    "\n",
    "# select notebook for model and run notbook with the dfba kernel\n",
    "Kernel -> Change kernel -> dfba\n",
    "Kernel -> Restart & Run All\n",
    "```\n",
    "\n",
    "## Model notebooks\n",
    "Example simulations\n",
    "\n",
    "* [toy_wholecell.ipynb](./toy_wholecell/toy_wholecell.ipynb)\n",
    "* [toy_atp.ipynb](./toy_atp/toy_atp.ipynb)\n",
    "* [diauxic_growth.ipynb](./diauxic_growth/diauxic_growth.ipynb)\n",
    "* [ecoli.ipynb](./ecoli/ecoli.ipynb)\n",
    "\n",
    "## Reproducibility between tools\n",
    "The numerical comparison of the simulation results from `sbmlutils` and `iBioSim` is available in\n",
    "* [compare.ipynb](./compare.ipynb)"
   ]
  },
  {
   "cell_type": "code",
   "execution_count": null,
   "metadata": {
    "collapsed": true
   },
   "outputs": [],
   "source": []
  }
 ],
 "metadata": {
  "kernelspec": {
   "display_name": "py35-cobra-cplex",
   "language": "python",
   "name": "py35-cobra-cplex"
  },
  "language_info": {
   "codemirror_mode": {
    "name": "ipython",
    "version": 3
   },
   "file_extension": ".py",
   "mimetype": "text/x-python",
   "name": "python",
   "nbconvert_exporter": "python",
   "pygments_lexer": "ipython3",
   "version": "3.5.1"
  }
 },
 "nbformat": 4,
 "nbformat_minor": 2
}
