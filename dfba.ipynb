{
 "cells": [
  {
   "cell_type": "code",
   "execution_count": 1,
   "metadata": {},
   "outputs": [],
   "source": [
    "# -*- coding: utf-8 -*-\n",
    "\n",
    "\"Contains functions to perform dynamic FBA.\"\n",
    "\n",
    "from __future__ import absolute_import\n",
    "\n",
    "from optlang.symbolics import Zero\n",
    "\n",
    "from scipy.integrate import solve_ivp\n",
    "import pandas as pd\n",
    "\n",
    "def dynamic_fba(model_and_rxns, kinetic_eq):\n",
    "    \"\"\"\n",
    "    Perform dynamic FBA to simulate batch growth of an organism.\n",
    "    \n",
    "    Dynamic FBA finds application in industrial fermentation process\n",
    "    and modeling community growth of microorganisms, among others. It\n",
    "    is an important tool which enhances FBA by adding reaction and\n",
    "    metabolite dynamics. It can be be performed using mainly 3\n",
    "    techniques: (1) Static Optimization Approach (SOA), \n",
    "    (2) Dynamic Optimization Approach, and (3) Direct Approach.\n",
    "    This algorithm uses the Direct Approach which circumvents the\n",
    "    inaccuracy of SOA and the Non-Linear Programming (NLP) complexity\n",
    "    found in DOA. This approach employs Lexicographic Linear Programming\n",
    "    to provide unique flux distribution and also solves the LP\n",
    "    feasibility problem when integrating in DAE.\n",
    "    \n",
    "    Parameters\n",
    "    ----------\n",
    "    model_and_rxns: dict(model: cobra.Model, biomass: cobra.Reaction.id,\n",
    "                         exchanges: tuple(cobra.Reaction.id))\n",
    "        The model(s) to perform dynamic FBA on and the metabolites to track.\n",
    "    kinetic_eq: scipy\n",
    "    \n",
    "    Returns\n",
    "    -------\n",
    "\n",
    "        \n",
    "    References\n",
    "    ----------\n",
    "    .. [1] Gomez et al.: DFBAlab: a fast and reliable MATLAB code for dynamic flux balance analysis.\n",
    "           BMC Bioinformatics 2014 15:409.\n",
    "    \"\"\"\n",
    "    model = model_and_rxns[\"model\"]\n",
    "    biomass_rxn_id = model_and_rxns[\"biomass\"]\n",
    "    exchanges_rxn_id = model_and_rxns[\"exchanges\"]\n",
    "    rxn_list = [biomass_rxn_id]\n",
    "    rxn_list.append(exchanges_rxn_id)\n",
    "    # 1. LLP\n",
    "    y = lexicographic_lp(model, rxn_list)\n",
    "    # 2. ODE integration\n",
    "    # a. modify \"y\" so that if fits into the kinetic equation\n",
    "    # of the form \"kinetic_eq(t, y)\"\n",
    "    # b. set y0 to the initial concentrations of the metabolites\n",
    "    solution = solve_ivp(kinetic_eq, t_span, y0, method='LSODA')\n",
    "    return solution\n",
    "\n",
    "def lexicographic_lp(model, rxn_list):\n",
    "    \"\"\"\n",
    "    Perform Lexicographic Linear Programming.\n",
    "    \n",
    "    Parameters\n",
    "    ----------\n",
    "    model: cobra.Model\n",
    "        The model to perform lexicographic LP on.\n",
    "    rxn_list: list(cobra.Reaction.id, tuple(cobra.Reaction.id)\n",
    "        The list containing the reactions to be considered as objectives.\n",
    "        \n",
    "    Returns\n",
    "    -------\n",
    "    pandas.Series\n",
    "    \"\"\"\n",
    "    biomass_rxn_id, ex_rxn_ids = rxn_list\n",
    "    \n",
    "    with model:\n",
    "        # LP feasibility\n",
    "        obj_vars = []\n",
    "        for met in model.metabolites:\n",
    "            s = model.problem.Variable(\"s_\" + met.id, lb=0)\n",
    "            beta = model.problem.Variable(\"beta_\" + met.id, lb=0)\n",
    "            s_equal_beta_const = model.problem.Constraint(\n",
    "                s - beta,\n",
    "                name=\"s_equal_beta_\" + met.id, ub=0.0, lb=0.0)\n",
    "            model.add_cons_vars([s, beta, s_equal_beta_const])\n",
    "            model.constraints[met.id].set_linear_coefficients({s: 1.0, beta: -1.0})\n",
    "            obj_vars.append(s)\n",
    "        model.objective = model.problem.Objective(Zero, sloppy=True, direction=\"min\")\n",
    "        model.objective.set_linear_coefficients({v: 1.0 for v in obj_vars})\n",
    "        model.objective_direction = \"min\"\n",
    "        sol_feasibility = model.slim_optimize()\n",
    "        feasibility_constraint = model.problem.Constraint(\n",
    "            model.objective.expression,\n",
    "            name=\"fixed_feasibility\", ub=sol_feasibility, lb=sol_feasibility)\n",
    "        model.add_cons_vars([feasibility_constraint])\n",
    "        \n",
    "        # Biomass\n",
    "        model.objective = model.reactions.get_by_id(biomass_rxn_id)\n",
    "        model.objective_direction = \"max\"\n",
    "        sol_biomass = model.slim_optimize()\n",
    "        biomass_constraint = model.problem.Constraint(\n",
    "            model.objective.expression,\n",
    "            name=\"fixed_biomass\", ub=sol_biomass, lb=sol_biomass)\n",
    "        model.add_cons_vars([biomass_constraint])\n",
    "        \n",
    "        # Exchanges\n",
    "        for rxn_id in ex_rxn_ids:\n",
    "            model.objective = model.reactions.get_by_id(rxn_id)\n",
    "            model.objective_direction = \"min\"\n",
    "            sol = model.slim_optimize()\n",
    "            exchange_constraint = model.problem.Constraint(\n",
    "                model.objective.expression,\n",
    "                name=\"fixed_\" + rxn_id, ub=sol, lb=sol)\n",
    "            model.add_cons_vars([exchange_constraint])\n",
    "\n",
    "        # Indexing list\n",
    "        loc_list = [biomass_rxn_id]\n",
    "        loc_list.extend(list(ex_rxn_ids))\n",
    "        \n",
    "        sol =  model.optimize()\n",
    "        return pd.Series(sol.fluxes.loc[loc_list])"
   ]
  },
  {
   "cell_type": "code",
   "execution_count": 2,
   "metadata": {},
   "outputs": [],
   "source": [
    "import cobra.test"
   ]
  },
  {
   "cell_type": "code",
   "execution_count": 3,
   "metadata": {},
   "outputs": [],
   "source": [
    "%matplotlib inline"
   ]
  },
  {
   "cell_type": "code",
   "execution_count": 4,
   "metadata": {},
   "outputs": [],
   "source": [
    "model = cobra.test.create_test_model('textbook')"
   ]
  },
  {
   "cell_type": "code",
   "execution_count": 5,
   "metadata": {},
   "outputs": [],
   "source": [
    "lp = lexicographic_lp(model, ['Biomass_Ecoli_core', ('EX_glc__D_e', 'EX_co2_e')])"
   ]
  },
  {
   "cell_type": "code",
   "execution_count": 6,
   "metadata": {},
   "outputs": [
    {
     "data": {
      "text/plain": [
       "Biomass_Ecoli_core     0.873922\n",
       "EX_glc__D_e          -10.000000\n",
       "EX_co2_e              22.809833\n",
       "Name: fluxes, dtype: float64"
      ]
     },
     "execution_count": 6,
     "metadata": {},
     "output_type": "execute_result"
    }
   ],
   "source": [
    "lp"
   ]
  },
  {
   "cell_type": "code",
   "execution_count": 7,
   "metadata": {},
   "outputs": [],
   "source": [
    "def dummy_kin_eq(t, y):\n",
    "    return y / (y + 1E-4)"
   ]
  },
  {
   "cell_type": "code",
   "execution_count": 8,
   "metadata": {},
   "outputs": [],
   "source": [
    "sol = solve_ivp(dummy_kin_eq, [0, 100], lp, t_eval=[0, 2, 17, 28, 35, 47, 51, 64, 79, 86, 99], method='LSODA')"
   ]
  },
  {
   "cell_type": "code",
   "execution_count": 9,
   "metadata": {},
   "outputs": [
    {
     "data": {
      "text/plain": [
       "  message: 'The solver successfully reached the end of the integration interval.'\n",
       "     nfev: 15\n",
       "     njev: 0\n",
       "      nlu: 0\n",
       "      sol: None\n",
       "   status: 0\n",
       "  success: True\n",
       "        t: array([ 0,  2, 17, 28, 35, 47, 51, 64, 79, 86, 99])\n",
       " t_events: None\n",
       "        y: array([[  0.87392151,   2.87386883,  17.87376774,  28.87374011,\n",
       "         35.87372253,  47.87370147,  51.87369594,  64.87367794,\n",
       "         79.87366018,  86.87365324,  99.87364035],\n",
       "       [-10.        ,  -7.99997044,   7.00010635,  18.00006834,\n",
       "         25.00004416,  37.0000174 ,  41.00001088,  53.99998969,\n",
       "         68.99996921,  75.99996144,  88.99994699],\n",
       "       [ 22.80983331,  24.80982562,  39.80979267,  50.80977486,\n",
       "         57.80976352,  69.80974858,  73.80974433,  86.80973052,\n",
       "        101.80971649, 108.80971079, 121.8097002 ]])"
      ]
     },
     "execution_count": 9,
     "metadata": {},
     "output_type": "execute_result"
    }
   ],
   "source": [
    "sol"
   ]
  },
  {
   "cell_type": "code",
   "execution_count": 10,
   "metadata": {},
   "outputs": [],
   "source": [
    "df = pd.DataFrame(sol.y.transpose(), index=sol.t, columns=tuple(['Biomass_Ecoli_core', 'EX_glc__D_e', 'EX_co2_e']))"
   ]
  },
  {
   "cell_type": "code",
   "execution_count": 11,
   "metadata": {},
   "outputs": [
    {
     "data": {
      "text/html": [
       "<div>\n",
       "<style scoped>\n",
       "    .dataframe tbody tr th:only-of-type {\n",
       "        vertical-align: middle;\n",
       "    }\n",
       "\n",
       "    .dataframe tbody tr th {\n",
       "        vertical-align: top;\n",
       "    }\n",
       "\n",
       "    .dataframe thead th {\n",
       "        text-align: right;\n",
       "    }\n",
       "</style>\n",
       "<table border=\"1\" class=\"dataframe\">\n",
       "  <thead>\n",
       "    <tr style=\"text-align: right;\">\n",
       "      <th></th>\n",
       "      <th>Biomass_Ecoli_core</th>\n",
       "      <th>EX_glc__D_e</th>\n",
       "      <th>EX_co2_e</th>\n",
       "    </tr>\n",
       "  </thead>\n",
       "  <tbody>\n",
       "    <tr>\n",
       "      <th>0</th>\n",
       "      <td>0.873922</td>\n",
       "      <td>-10.000000</td>\n",
       "      <td>22.809833</td>\n",
       "    </tr>\n",
       "    <tr>\n",
       "      <th>2</th>\n",
       "      <td>2.873869</td>\n",
       "      <td>-7.999970</td>\n",
       "      <td>24.809826</td>\n",
       "    </tr>\n",
       "    <tr>\n",
       "      <th>17</th>\n",
       "      <td>17.873768</td>\n",
       "      <td>7.000106</td>\n",
       "      <td>39.809793</td>\n",
       "    </tr>\n",
       "    <tr>\n",
       "      <th>28</th>\n",
       "      <td>28.873740</td>\n",
       "      <td>18.000068</td>\n",
       "      <td>50.809775</td>\n",
       "    </tr>\n",
       "    <tr>\n",
       "      <th>35</th>\n",
       "      <td>35.873723</td>\n",
       "      <td>25.000044</td>\n",
       "      <td>57.809764</td>\n",
       "    </tr>\n",
       "    <tr>\n",
       "      <th>47</th>\n",
       "      <td>47.873701</td>\n",
       "      <td>37.000017</td>\n",
       "      <td>69.809749</td>\n",
       "    </tr>\n",
       "    <tr>\n",
       "      <th>51</th>\n",
       "      <td>51.873696</td>\n",
       "      <td>41.000011</td>\n",
       "      <td>73.809744</td>\n",
       "    </tr>\n",
       "    <tr>\n",
       "      <th>64</th>\n",
       "      <td>64.873678</td>\n",
       "      <td>53.999990</td>\n",
       "      <td>86.809731</td>\n",
       "    </tr>\n",
       "    <tr>\n",
       "      <th>79</th>\n",
       "      <td>79.873660</td>\n",
       "      <td>68.999969</td>\n",
       "      <td>101.809716</td>\n",
       "    </tr>\n",
       "    <tr>\n",
       "      <th>86</th>\n",
       "      <td>86.873653</td>\n",
       "      <td>75.999961</td>\n",
       "      <td>108.809711</td>\n",
       "    </tr>\n",
       "    <tr>\n",
       "      <th>99</th>\n",
       "      <td>99.873640</td>\n",
       "      <td>88.999947</td>\n",
       "      <td>121.809700</td>\n",
       "    </tr>\n",
       "  </tbody>\n",
       "</table>\n",
       "</div>"
      ],
      "text/plain": [
       "    Biomass_Ecoli_core  EX_glc__D_e    EX_co2_e\n",
       "0             0.873922   -10.000000   22.809833\n",
       "2             2.873869    -7.999970   24.809826\n",
       "17           17.873768     7.000106   39.809793\n",
       "28           28.873740    18.000068   50.809775\n",
       "35           35.873723    25.000044   57.809764\n",
       "47           47.873701    37.000017   69.809749\n",
       "51           51.873696    41.000011   73.809744\n",
       "64           64.873678    53.999990   86.809731\n",
       "79           79.873660    68.999969  101.809716\n",
       "86           86.873653    75.999961  108.809711\n",
       "99           99.873640    88.999947  121.809700"
      ]
     },
     "execution_count": 11,
     "metadata": {},
     "output_type": "execute_result"
    }
   ],
   "source": [
    "df"
   ]
  },
  {
   "cell_type": "code",
   "execution_count": 12,
   "metadata": {},
   "outputs": [
    {
     "data": {
      "text/plain": [
       "<matplotlib.axes._subplots.AxesSubplot at 0x11a257240>"
      ]
     },
     "execution_count": 12,
     "metadata": {},
     "output_type": "execute_result"
    },
    {
     "data": {
      "image/png": "[encoded data removed]",
      "text/plain": [
       "<Figure size 432x288 with 1 Axes>"
      ]
     },
     "metadata": {},
     "output_type": "display_data"
    }
   ],
   "source": [
    "df.plot()"
   ]
  }
 ],
 "metadata": {
  "kernelspec": {
   "display_name": "py35-cobra-cplex",
   "language": "python",
   "name": "py35-cobra-cplex"
  },
  "language_info": {
   "codemirror_mode": {
    "name": "ipython",
    "version": 3
   },
   "file_extension": ".py",
   "mimetype": "text/x-python",
   "name": "python",
   "nbconvert_exporter": "python",
   "pygments_lexer": "ipython3",
   "version": "3.5.1"
  }
 },
 "nbformat": 4,
 "nbformat_minor": 2
}
